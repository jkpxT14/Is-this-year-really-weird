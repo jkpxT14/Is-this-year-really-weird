{
 "cells": [
  {
   "cell_type": "markdown",
   "metadata": {},
   "source": [
    "## <Is this year really weird?> - 20104 Jungwoo K."
   ]
  },
  {
   "cell_type": "code",
   "execution_count": null,
   "metadata": {},
   "outputs": [],
   "source": [
    "import pandas as pd\n",
    "import numpy as np\n",
    "import matplotlib.pyplot as plt\n",
    "import seaborn as sns\n",
    "\n",
    "pd.set_option('display.max_rows', None)\n",
    "pd.set_option('display.max_columns', None)"
   ]
  },
  {
   "cell_type": "code",
   "execution_count": null,
   "metadata": {},
   "outputs": [],
   "source": [
    "Year=list(range(2014, 2024))\n",
    "L=[]"
   ]
  },
  {
   "cell_type": "markdown",
   "metadata": {},
   "source": [
    "#### [1. Data Preprocessing]"
   ]
  },
  {
   "cell_type": "code",
   "execution_count": null,
   "metadata": {},
   "outputs": [],
   "source": [
    "def init(df):\n",
    "    df[\"Date\"]=pd.to_datetime(df[\"Date\"])\n",
    "    df[\"Year\"]=df[\"Date\"].dt.year\n",
    "    df[\"Month\"]=df[\"Date\"].dt.month\n",
    "    df[\"Day\"]=df[\"Date\"].dt.day\n",
    "\n",
    "    if df.loc[0, \"Precipitation\"]>=70:\n",
    "        df.loc[0, \"Count\"]=1\n",
    "        df.loc[0, \"Heavy\"]=1\n",
    "    elif df.loc[0, \"Precipitation\"]>0:\n",
    "        df.loc[0, \"Count\"]=1\n",
    "        df.loc[0, \"Heavy\"]=0\n",
    "    else:\n",
    "        df.loc[0, \"Count\"]=0\n",
    "        df.loc[0, \"Heavy\"]=0\n",
    "\n",
    "    for i in range(len(df)):\n",
    "        if pd.isna(df.loc[i, \"Precipitation\"]):\n",
    "            df.loc[i, \"Precipitation\"]=0.0\n",
    "\n",
    "        if i==0:\n",
    "            df.loc[i, \"Sum\"]=df.loc[i, \"Precipitation\"]\n",
    "        else:\n",
    "            df.loc[i, \"Sum\"]=df.loc[i-1, \"Sum\"]+df.loc[i, \"Precipitation\"]\n",
    "\n",
    "            if df.loc[i, \"Precipitation\"]>=70:\n",
    "                df.loc[i, \"Count\"]=df.loc[i-1, \"Count\"]+1\n",
    "                df.loc[i, \"Heavy\"]=df.loc[i-1, \"Heavy\"]+1\n",
    "            elif df.loc[i, \"Precipitation\"]>0:\n",
    "                df.loc[i, \"Count\"]=df.loc[i-1, \"Count\"]+1\n",
    "                df.loc[i, \"Heavy\"]=df.loc[i-1, \"Heavy\"]\n",
    "            else:\n",
    "                df.loc[i, \"Count\"]=df.loc[i-1, \"Count\"]\n",
    "                df.loc[i, \"Heavy\"]=df.loc[i-1, \"Heavy\"]\n",
    "\n",
    "    L.append(len(df))\n",
    "\n",
    "def reinit(df):\n",
    "    if df.loc[0, \"Precipitation\"]>=70:\n",
    "        df.loc[0, \"Count\"]=1\n",
    "        df.loc[0, \"Heavy\"]=1\n",
    "    elif df.loc[0, \"Precipitation\"]>0:\n",
    "        df.loc[0, \"Count\"]=1\n",
    "        df.loc[0, \"Heavy\"]=0\n",
    "    else:\n",
    "        df.loc[0, \"Count\"]=0\n",
    "        df.loc[0, \"Heavy\"]=0\n",
    "    \n",
    "    for i in range(len(df)):\n",
    "        if i==0:\n",
    "            df.loc[i, \"Sum\"]=df.loc[i, \"Precipitation\"]\n",
    "        else:\n",
    "            df.loc[i, \"Sum\"]=df.loc[i-1, \"Sum\"]+df.loc[i, \"Precipitation\"]\n",
    "\n",
    "            if df.loc[i, \"Precipitation\"]>=70:\n",
    "                df.loc[i, \"Count\"]=df.loc[i-1, \"Count\"]+1\n",
    "                df.loc[i, \"Heavy\"]=df.loc[i-1, \"Heavy\"]+1\n",
    "            elif df.loc[i, \"Precipitation\"]>0:\n",
    "                df.loc[i, \"Count\"]=df.loc[i-1, \"Count\"]+1\n",
    "                df.loc[i, \"Heavy\"]=df.loc[i-1, \"Heavy\"]\n",
    "            else:\n",
    "                df.loc[i, \"Count\"]=df.loc[i-1, \"Count\"]\n",
    "                df.loc[i, \"Heavy\"]=df.loc[i-1, \"Heavy\"]\n",
    "    L.append(len(df))"
   ]
  },
  {
   "cell_type": "code",
   "execution_count": null,
   "metadata": {},
   "outputs": [],
   "source": [
    "# Removed Unneccessary rows and columns directly(externally)\n",
    "df_2014=pd.read_csv(\"2014년 강수량.csv\")\n",
    "print(df_2014)\n",
    "init(df_2014)\n",
    "print(df_2014)\n",
    "print(df_2014.describe())"
   ]
  },
  {
   "cell_type": "code",
   "execution_count": null,
   "metadata": {},
   "outputs": [],
   "source": [
    "df_2015=pd.read_csv(\"2015년 강수량.csv\")\n",
    "init(df_2015)\n",
    "\n",
    "df_2016=pd.read_csv(\"2016년 강수량.csv\")\n",
    "init(df_2016)\n",
    "\n",
    "df_2017=pd.read_csv(\"2017년 강수량.csv\")\n",
    "init(df_2017)\n",
    "\n",
    "df_2018=pd.read_csv(\"2018년 강수량.csv\")\n",
    "init(df_2018)\n",
    "\n",
    "df_2019=pd.read_csv(\"2019년 강수량.csv\")\n",
    "init(df_2019)\n",
    "\n",
    "df_2020=pd.read_csv(\"2020년 강수량.csv\")\n",
    "init(df_2020)\n",
    "\n",
    "df_2021=pd.read_csv(\"2021년 강수량.csv\")\n",
    "init(df_2021)\n",
    "\n",
    "df_2022=pd.read_csv(\"2022년 강수량.csv\")\n",
    "init(df_2022)\n",
    "\n",
    "df_2023=pd.read_csv(\"2023년 강수량.csv\")\n",
    "init(df_2023)\n",
    "\n",
    "for i in range(1, len(L)):\n",
    "    L[i]+=L[i-1]"
   ]
  },
  {
   "cell_type": "code",
   "execution_count": null,
   "metadata": {},
   "outputs": [],
   "source": [
    "df=pd.concat([df_2014, df_2015, df_2016, df_2017, df_2018, df_2019, df_2020, df_2021, df_2022, df_2023])\n",
    "df=df.reset_index(drop=True)\n",
    "print(df)\n",
    "print(df.describe())\n",
    "print(L)"
   ]
  },
  {
   "cell_type": "markdown",
   "metadata": {},
   "source": [
    "#### [2. Visualization, Analysis]"
   ]
  },
  {
   "cell_type": "markdown",
   "metadata": {},
   "source": [
    "##### 1 - Basic"
   ]
  },
  {
   "cell_type": "code",
   "execution_count": null,
   "metadata": {},
   "outputs": [],
   "source": [
    "fig = plt.figure(figsize=(16, 12))\n",
    "sns.lineplot(x=range(len(df)), y=df[\"Precipitation\"])"
   ]
  },
  {
   "cell_type": "code",
   "execution_count": null,
   "metadata": {},
   "outputs": [],
   "source": [
    "fig, ax = plt.subplots(4, 3, figsize=(16, 16))\n",
    "# sns.lineplot(ax=ax[0][0], x=range(len(df_2014)), y=df_2014[\"Precipitation\"])\n",
    "# sns.lineplot(ax=ax[0][1], x=range(len(df_2015)), y=df_2015[\"Precipitation\"])\n",
    "# sns.lineplot(ax=ax[0][2], x=range(len(df_2016)), y=df_2016[\"Precipitation\"])\n",
    "# sns.lineplot(ax=ax[1][0], x=range(len(df_2017)), y=df_2017[\"Precipitation\"])\n",
    "# sns.lineplot(ax=ax[1][1], x=range(len(df_2018)), y=df_2018[\"Precipitation\"])\n",
    "# sns.lineplot(ax=ax[1][2], x=range(len(df_2019)), y=df_2019[\"Precipitation\"])\n",
    "# sns.lineplot(ax=ax[2][0], x=range(len(df_2020)), y=df_2020[\"Precipitation\"])\n",
    "# sns.lineplot(ax=ax[2][1], x=range(len(df_2021)), y=df_2021[\"Precipitation\"])\n",
    "# sns.lineplot(ax=ax[2][2], x=range(len(df_2022)), y=df_2022[\"Precipitation\"])\n",
    "# sns.lineplot(ax=ax[3][0], x=range(len(df_2023)), y=df_2023[\"Precipitation\"])\n",
    "\n",
    "for i in range(4):\n",
    "    for j in range(3):\n",
    "        if i==0 and j==0:\n",
    "            sns.lineplot(ax=ax[0][0], x=range(L[0]), y=df.iloc[:L[0], 1])\n",
    "        elif i==3 and j>=1:\n",
    "            break\n",
    "        else:\n",
    "            sns.lineplot(ax=ax[i][j], x=range(L[3*i+j]-L[3*i+j-1]), y=df.iloc[L[3*i+j-1]:L[3*i+j], 1])"
   ]
  },
  {
   "cell_type": "markdown",
   "metadata": {},
   "source": [
    "##### 2 - The number of rainy days"
   ]
  },
  {
   "cell_type": "code",
   "execution_count": null,
   "metadata": {},
   "outputs": [],
   "source": [
    "Count=[]\n",
    "\n",
    "for i in range(len(L)):\n",
    "    Count.append(df.loc[L[i]-1, \"Count\"])\n",
    "\n",
    "fig = plt.figure(figsize=(10, 7))\n",
    "sns.lineplot(x=Year, y=Count)"
   ]
  },
  {
   "cell_type": "code",
   "execution_count": null,
   "metadata": {},
   "outputs": [],
   "source": [
    "fig, ax = plt.subplots(4, 3, figsize=(13, 13))\n",
    "fig.set_facecolor('white')\n",
    "for i in range(4):\n",
    "    for j in range(3):\n",
    "        if i==0 and j==0:\n",
    "            ax[0][0].pie([L[0]-Count[0], Count[0]], labels=[\"X\", \"O\"])\n",
    "            print(Count[0]/L[0])\n",
    "        elif i==3 and j>=1:\n",
    "            break\n",
    "        else:\n",
    "            ax[i][j].pie([L[3*i+j]-L[3*i+j-1]-Count[3*i+j], Count[3*i+j]], labels=[\"X\", \"O\"])\n",
    "            print(Count[3*i+j]/(L[3*i+j]-L[3*i+j-1]))"
   ]
  },
  {
   "cell_type": "markdown",
   "metadata": {},
   "source": [
    "##### 3 - Sum, Average"
   ]
  },
  {
   "cell_type": "code",
   "execution_count": null,
   "metadata": {},
   "outputs": [],
   "source": [
    "Sum=[]\n",
    "Average=[]\n",
    "\n",
    "for i in range(len(L)):\n",
    "    Sum.append(df.loc[L[i]-1, \"Sum\"])\n",
    "\n",
    "for i in range(len(L)):\n",
    "    if i==0:\n",
    "        Average.append(Sum[i]/L[i])\n",
    "    else:\n",
    "        Average.append(Sum[i]/(L[i]-L[i-1]))\n",
    "    print(Average[i])\n",
    "\n",
    "fig = plt.figure(figsize=(12, 8))\n",
    "sns.barplot(x=Year, y=Average)"
   ]
  },
  {
   "cell_type": "markdown",
   "metadata": {},
   "source": [
    "##### 4 - Heavy Rainfall"
   ]
  },
  {
   "cell_type": "code",
   "execution_count": null,
   "metadata": {},
   "outputs": [],
   "source": [
    "Heavy=[]\n",
    "\n",
    "for i in range(len(L)):\n",
    "    Heavy.append(df.loc[L[i]-1, \"Heavy\"])\n",
    "\n",
    "fig = plt.figure(figsize=(12, 8))\n",
    "sns.lineplot(x=Year, y=Heavy)"
   ]
  },
  {
   "cell_type": "code",
   "execution_count": null,
   "metadata": {},
   "outputs": [],
   "source": [
    "fig, ax = plt.subplots(4, 3, figsize=(13, 13))\n",
    "fig.set_facecolor('white')\n",
    "for i in range(4):\n",
    "    for j in range(3):\n",
    "        if i==3 and j>=1:\n",
    "            break\n",
    "        else:\n",
    "            ax[i][j].pie([Count[3*i+j]-Heavy[3*i+j], Heavy[3*i+j]], labels=[\"X\", \"O\"])\n",
    "            print(Heavy[3*i+j]/(Count[3*i+j]))"
   ]
  },
  {
   "cell_type": "markdown",
   "metadata": {},
   "source": [
    "##### 5 - Focus on November, December"
   ]
  },
  {
   "cell_type": "code",
   "execution_count": null,
   "metadata": {},
   "outputs": [],
   "source": [
    "L=[]\n",
    "\n",
    "df_2014=df_2014[df_2014[\"Month\"]>=11]\n",
    "df_2014=df_2014.reset_index(drop=True)\n",
    "reinit(df_2014)\n",
    "\n",
    "df_2015=df_2015[df_2015[\"Month\"]>=11]\n",
    "df_2015=df_2015.reset_index(drop=True)\n",
    "reinit(df_2015)\n",
    "\n",
    "df_2016=df_2016[df_2016[\"Month\"]>=11]\n",
    "df_2016=df_2016.reset_index(drop=True)\n",
    "reinit(df_2016)\n",
    "\n",
    "df_2017=df_2017[df_2017[\"Month\"]>=11]\n",
    "df_2017=df_2017.reset_index(drop=True)\n",
    "reinit(df_2017)\n",
    "\n",
    "df_2018=df_2018[df_2018[\"Month\"]>=11]\n",
    "df_2018=df_2018.reset_index(drop=True)\n",
    "reinit(df_2018)\n",
    "\n",
    "df_2019=df_2019[df_2019[\"Month\"]>=11]\n",
    "df_2019=df_2019.reset_index(drop=True)\n",
    "reinit(df_2019)\n",
    "\n",
    "df_2020=df_2020[df_2020[\"Month\"]>=11]\n",
    "df_2020=df_2020.reset_index(drop=True)\n",
    "reinit(df_2020)\n",
    "\n",
    "df_2021=df_2021[df_2021[\"Month\"]>=11]\n",
    "df_2021=df_2021.reset_index(drop=True)\n",
    "reinit(df_2021)\n",
    "\n",
    "df_2022=df_2022[df_2022[\"Month\"]>=11]\n",
    "df_2022=df_2022.reset_index(drop=True)\n",
    "reinit(df_2022)\n",
    "\n",
    "df_2023=df_2023[df_2023[\"Month\"]>=11]\n",
    "df_2023=df_2023.reset_index(drop=True)\n",
    "reinit(df_2023)\n",
    "\n",
    "for i in range(1, len(L)):\n",
    "    L[i]+=L[i-1]\n",
    "\n",
    "df=pd.concat([df_2014, df_2015, df_2016, df_2017, df_2018, df_2019, df_2020, df_2021, df_2022, df_2023])\n",
    "df=df.reset_index(drop=True)\n",
    "print(df.describe())\n",
    "\n",
    "for i in range(len(L)):\n",
    "    print(df[\"Count\"][L[i]-1])\n",
    "\n",
    "print(df[\"Count\"])"
   ]
  }
 ],
 "metadata": {
  "kernelspec": {
   "display_name": "Python 3",
   "language": "python",
   "name": "python3"
  },
  "language_info": {
   "codemirror_mode": {
    "name": "ipython",
    "version": 3
   },
   "file_extension": ".py",
   "mimetype": "text/x-python",
   "name": "python",
   "nbconvert_exporter": "python",
   "pygments_lexer": "ipython3",
   "version": "3.10.4"
  }
 },
 "nbformat": 4,
 "nbformat_minor": 2
}
